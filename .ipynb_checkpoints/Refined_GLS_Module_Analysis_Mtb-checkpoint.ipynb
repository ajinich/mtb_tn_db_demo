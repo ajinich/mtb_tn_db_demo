{
 "cells": [
  {
   "cell_type": "markdown",
   "id": "9844a40c-973d-4f2e-b98c-fb8543b39ad4",
   "metadata": {},
   "source": [
    "# Introduction: "
   ]
  },
  {
   "cell_type": "markdown",
   "id": "71d54025-bbb1-440f-bc0b-20a016d896b9",
   "metadata": {},
   "source": [
    "This Jupyter Lab notebook documents the computational analysis performed as part of the manuscript revisions for our study on the co-essentiality network in Mycobacterium tuberculosis (Mtb). The analysis aims to refine our understanding of gene-gene interactions and to identify clusters of genes, referred to as NN2 (nearest-neighbors of second degree) subgraphs, that are potentially co-essential for the bacterium's survival and pathogenicity.\n",
    "\n",
    "## Background\n",
    "Genome-wide random mutagenesis screens using transposon sequencing (TnSeq) have been a cornerstone of functional genetics in Mtb. Our initial manuscript presented a co-essentiality analysis across the Mtb genome, revealing clusters of genes with similar function. However, peer review feedback highlighted the need for a more rigorous approach to identify and validate these gene clusters.\n",
    "\n",
    "## Objectives\n",
    "The following key objectives were addressed in this notebook:\n",
    "\n",
    "### 1. Filtering Outlier-Driven Correlations: \n",
    "We refined our pairwise gene correlation data to exclude instances where the correlation was driven by outliers, ensuring that our subsequent analyses are based on robust and meaningful interactions.\n",
    "\n",
    "### 2. Generating NN2 Subgraphs: \n",
    "We implemented an algorithm to systematically search for and generate nearest-neighbors of second degree (NN2) subgraphs from the co-essentiality network, starting from each gene as a seed.\n",
    "\n",
    "### 3. Filtering Unique Subgraphs: \n",
    "To avoid redundancy, we developed a method to filter out duplicate or similar NN2 subgraphs, utilizing the Jaccard similarity index to quantify the similarity between subgraphs.\n",
    "\n",
    "### 4. Analyzing Subgraph Sizes and Statistics: \n",
    "We observed the distribution of NN2 subgraph sizes to identify and further investigate unusually large subgraphs (which tend to be hard to interpret)."
   ]
  },
  {
   "cell_type": "markdown",
   "id": "e8b14ebe-097a-406f-8e9a-cb58d5b5025f",
   "metadata": {},
   "source": [
    "# Import all necessary libraries"
   ]
  },
  {
   "cell_type": "code",
   "execution_count": 1,
   "id": "de11d493-5c79-4f1c-91f1-1ecc0d060038",
   "metadata": {},
   "outputs": [],
   "source": [
    "import pandas as pd\n",
    "import os\n",
    "import matplotlib.pyplot as plt\n",
    "import numpy as np\n",
    "from tqdm import tqdm"
   ]
  },
  {
   "cell_type": "markdown",
   "id": "219fda4d-762b-46c6-9ca9-6a9aada80f37",
   "metadata": {},
   "source": [
    "# Load datasets: "
   ]
  },
  {
   "cell_type": "code",
   "execution_count": 2,
   "id": "31065580-1760-4b34-8e9d-100b2f0ef8a2",
   "metadata": {},
   "outputs": [],
   "source": [
    "path_data = '/home/ajinich/Dropbox/KyuRhee/unknown_function/unknown_redox/data/GLS_TnSeq_v2/'\n",
    "fn_interact = 'test_SI_data_1_fdr.001.xlsx'\n",
    "fn_interact_path = os.path.join(path_data, fn_interact)\n",
    "df_interact = pd.read_excel(fn_interact_path)\n",
    "\n",
    "# LFC dataset\n",
    "fn_lfc = '../data/standardized_data/old_std_data/result_logfc_matrix_2021_11_15_BASIS_invitro.csv'\n",
    "df_lfc_gls = pd.read_csv(fn_lfc, index_col=0)\n",
    "df_lfc_gls.dropna(axis=0, inplace=True)"
   ]
  },
  {
   "cell_type": "markdown",
   "id": "514ebbbb-9f25-4ebc-ab7f-a9a772768d50",
   "metadata": {},
   "source": [
    "# PART 1: Filter out significant GLS correlations that are driven by single outlier points:\n",
    "\n",
    "In this phase, we aim to refine the quality of our gene correlation data by identifying and removing any gene-gene interactions that are disproportionately influenced by single outlier data points. Such outliers can skew the perceived strength and direction of a gene pair's correlation, potentially leading to false assumptions about their co-essentiality. By flagging these outlier-driven correlations, we ensure that our analysis is based on more stable and reliable gene interactions.\n",
    "\n"
   ]
  },
  {
   "cell_type": "markdown",
   "id": "a561a523-5a8c-460b-be79-b718bc129f22",
   "metadata": {},
   "source": [
    "First, in preparation for this, we configure the data for Generalized Least Squares (GLS) regression by transforming the log-fold change (LFC) values from the TnSeq screens. We start by computing the covariance matrix of the data to account for the interdependencies between different TnSeq experiments. We then invert this matrix, obtain the inverse's Cholesky decomposition. This allows us to transform the data (i.e., \"warp\" the screens) into a new space where the GLS assumptions hold, specifically that the errors are uncorrelated and homoscedastic. The resulting warped_screens provide a suitable basis for the subsequent correlation analysis.\n",
    "\n"
   ]
  },
  {
   "cell_type": "code",
   "execution_count": 4,
   "id": "203b4d0b-df87-42fb-807d-f1e19d840406",
   "metadata": {},
   "outputs": [],
   "source": [
    "mat_data = df_lfc_gls.values\n",
    "cov_mat = np.cov(mat_data.T)\n",
    "inv_mat = np.linalg.inv(cov_mat)\n",
    "\n",
    "cholsigmainv = np.linalg.cholesky(inv_mat)\n",
    "warped_screens = df_lfc_gls.values @ cholsigmainv\n",
    "warped_intercept = cholsigmainv.sum(axis=0)"
   ]
  },
  {
   "cell_type": "markdown",
   "id": "8ae1d82b-4540-4f55-966b-68f7ebff5fc1",
   "metadata": {},
   "source": [
    "#### Here we address potential duplication within our interaction data to ensure the uniqueness of gene pairs for accurate analysis. \n",
    "\n",
    "The df_interact DataFrame comprises gene pairs, with each row containing a 'lead_gene' and a 'partner_gene', indicative of a significant GLS correlation between them.\n",
    "\n"
   ]
  },
  {
   "cell_type": "code",
   "execution_count": 34,
   "id": "7a5ad2a7-e53d-4928-9eda-01a3db7bd2ff",
   "metadata": {},
   "outputs": [
    {
     "name": "stdout",
     "output_type": "stream",
     "text": [
      "(5610, 4)\n"
     ]
    },
    {
     "data": {
      "text/html": [
       "<div>\n",
       "<style scoped>\n",
       "    .dataframe tbody tr th:only-of-type {\n",
       "        vertical-align: middle;\n",
       "    }\n",
       "\n",
       "    .dataframe tbody tr th {\n",
       "        vertical-align: top;\n",
       "    }\n",
       "\n",
       "    .dataframe thead th {\n",
       "        text-align: right;\n",
       "    }\n",
       "</style>\n",
       "<table border=\"1\" class=\"dataframe\">\n",
       "  <thead>\n",
       "    <tr style=\"text-align: right;\">\n",
       "      <th></th>\n",
       "      <th>lead_gene</th>\n",
       "      <th>partner_gene</th>\n",
       "      <th>p_value_FDR</th>\n",
       "      <th>sorted_gene_pair</th>\n",
       "    </tr>\n",
       "  </thead>\n",
       "  <tbody>\n",
       "    <tr>\n",
       "      <th>0</th>\n",
       "      <td>Rv0001</td>\n",
       "      <td>Rv0062</td>\n",
       "      <td>1.962568e-04</td>\n",
       "      <td>(Rv0001, Rv0062)</td>\n",
       "    </tr>\n",
       "    <tr>\n",
       "      <th>1</th>\n",
       "      <td>Rv0001</td>\n",
       "      <td>Rv0283</td>\n",
       "      <td>4.421194e-09</td>\n",
       "      <td>(Rv0001, Rv0283)</td>\n",
       "    </tr>\n",
       "    <tr>\n",
       "      <th>2</th>\n",
       "      <td>Rv0001</td>\n",
       "      <td>Rv0415</td>\n",
       "      <td>6.310410e-09</td>\n",
       "      <td>(Rv0001, Rv0415)</td>\n",
       "    </tr>\n",
       "    <tr>\n",
       "      <th>3</th>\n",
       "      <td>Rv0001</td>\n",
       "      <td>Rv0537c</td>\n",
       "      <td>3.644942e-04</td>\n",
       "      <td>(Rv0001, Rv0537c)</td>\n",
       "    </tr>\n",
       "    <tr>\n",
       "      <th>4</th>\n",
       "      <td>Rv0001</td>\n",
       "      <td>Rv2247</td>\n",
       "      <td>2.852074e-07</td>\n",
       "      <td>(Rv0001, Rv2247)</td>\n",
       "    </tr>\n",
       "  </tbody>\n",
       "</table>\n",
       "</div>"
      ],
      "text/plain": [
       "  lead_gene partner_gene   p_value_FDR   sorted_gene_pair\n",
       "0    Rv0001       Rv0062  1.962568e-04   (Rv0001, Rv0062)\n",
       "1    Rv0001       Rv0283  4.421194e-09   (Rv0001, Rv0283)\n",
       "2    Rv0001       Rv0415  6.310410e-09   (Rv0001, Rv0415)\n",
       "3    Rv0001      Rv0537c  3.644942e-04  (Rv0001, Rv0537c)\n",
       "4    Rv0001       Rv2247  2.852074e-07   (Rv0001, Rv2247)"
      ]
     },
     "execution_count": 34,
     "metadata": {},
     "output_type": "execute_result"
    }
   ],
   "source": [
    "# Assuming df_interact is your DataFrame with columns 'lead_gene' and 'partner_gene'\n",
    "# Normalize the order of gene pairs\n",
    "df_interact['sorted_gene_pair'] = df_interact.apply(lambda row: tuple(sorted([row['lead_gene'], row['partner_gene']])), axis=1)\n",
    "# Identify duplicates based on the sorted gene pairs\n",
    "duplicates = df_interact[df_interact.duplicated(subset='sorted_gene_pair', keep=False)]\n",
    "# Drop duplicates based on the sorted gene pairs\n",
    "df_interact = df_interact.drop_duplicates(subset='sorted_gene_pair')\n",
    "# reset index:\n",
    "df_interact.reset_index(inplace=True, drop=True)\n",
    "# get gene pairs in list form\n",
    "gene_pairs = [(row.lead_gene, row.partner_gene) for row in df_interact.itertuples()]\n",
    "\n",
    "print(df_interact.shape)\n",
    "df_interact.head()"
   ]
  },
  {
   "cell_type": "markdown",
   "id": "dfc08d62-a5e0-4662-9d64-59dedf532438",
   "metadata": {},
   "source": [
    "#### Some function definitions:"
   ]
  },
  {
   "cell_type": "code",
   "execution_count": 6,
   "id": "b63eeac4-de16-4768-8720-66a248f2d6d5",
   "metadata": {},
   "outputs": [],
   "source": [
    "def get_warped_screen_for_gene(gene_id, df, warped_screens):\n",
    "    \"\"\"\n",
    "    Retrieve the warped screen data for a specific gene.\n",
    "\n",
    "    Parameters:\n",
    "    gene_id (str): The identifier of the gene.\n",
    "    df (DataFrame): The DataFrame containing gene information.\n",
    "    warped_screens (ndarray): The array of warped screens data.\n",
    "\n",
    "    Returns:\n",
    "    ndarray: The warped screen data corresponding to the given gene_id.\n",
    "    \"\"\"\n",
    "    # Get the index of the gene in the DataFrame\n",
    "    gene_index = df.index.get_loc(gene_id)\n",
    "    \n",
    "    # Extract the corresponding row from warped_screens\n",
    "    gene_warped_screen = warped_screens[gene_index]\n",
    "\n",
    "    return gene_warped_screen\n",
    "\n",
    "\n",
    "def compute_gls_correlation(warped_gene1, warped_gene2, warped_interc):\n",
    "    \"\"\"\n",
    "    Compute the GLS correlation coefficient and standard error between two genes.\n",
    "\n",
    "    Parameters:\n",
    "    warped_gene1 (ndarray): Warped screen data for the first gene.\n",
    "    warped_gene2 (ndarray): Warped screen data for the second gene.\n",
    "    warped_interc (ndarray): The intercept term for the GLS regression.\n",
    "\n",
    "    Returns:\n",
    "    float: The GLS correlation coefficient.\n",
    "    float: The standard error of the GLS correlation.\n",
    "    \"\"\"\n",
    "    # Reshape the genes' data for linear regression\n",
    "    X = np.stack((warped_interc, warped_gene1), axis=1)\n",
    "    y = warped_gene2\n",
    "\n",
    "    # Run linear regression\n",
    "    coef, residues, _, _ = np.linalg.lstsq(X, y, rcond=None)\n",
    "    df = len(warped_gene1) - 2  # degrees of freedom\n",
    "\n",
    "    # Compute standard error\n",
    "    GLS_se = np.sqrt(np.linalg.pinv(X.T @ X)[1, 1] * residues / df)\n",
    "    \n",
    "    # Return the GLS coefficient and standard error\n",
    "    return coef[1], GLS_se\n",
    "\n",
    "\n",
    "def loo_gls_correlation(warped_gene1, warped_gene2, warped_intercept):\n",
    "    \"\"\"\n",
    "    Compute GLS correlations using Leave-One-Out (LOO) methodology to identify outlier effects.\n",
    "\n",
    "    Parameters:\n",
    "    warped_gene1 (ndarray): Warped screen data for the first gene.\n",
    "    warped_gene2 (ndarray): Warped screen data for the second gene.\n",
    "    warped_intercept (ndarray): The intercept term for the GLS regression.\n",
    "\n",
    "    Returns:\n",
    "    ndarray: GLS correlation coefficients for each leave-one-out iteration.\n",
    "    ndarray: Standard errors for each leave-one-out iteration.\n",
    "    \"\"\"\n",
    "    n = len(warped_gene1)\n",
    "    loo_coefs = np.zeros(n)\n",
    "    loo_se = np.zeros(n)\n",
    "\n",
    "    for i in range(n):\n",
    "        # Exclude the i-th screen\n",
    "        loo_gene1 = np.delete(warped_gene1, i)\n",
    "        loo_gene2 = np.delete(warped_gene2, i)\n",
    "        loo_intercept = np.delete(warped_intercept, i)\n",
    "\n",
    "        # Recompute the GLS correlation\n",
    "        coef, se = compute_gls_correlation(loo_gene1, loo_gene2, loo_intercept)\n",
    "        loo_coefs[i] = coef\n",
    "        loo_se[i] = se\n",
    "\n",
    "    return loo_coefs, loo_se\n",
    "\n",
    "\n",
    "def analyze_loocv_results(loo_coefs, threshold=0.18):\n",
    "    \"\"\"\n",
    "    Analyze the results of LOOCV to identify significant changes in GLS coefficients.\n",
    "    \n",
    "    Parameters:\n",
    "    loo_coefs (array): Array of GLS coefficients from LOOCV.\n",
    "    threshold (float): Threshold for considering a change in coefficient as significant.\n",
    "    NOTE: We use approximately the Median (50% Quartile) as a conservative approach. \n",
    "    That is, the median value of the distribution of the max/min effect on GLS coeff. from removing a single data point.   \n",
    "    This means any change greater than this value (with the correct sign/direction taken into account) is considered significant. \n",
    "    \n",
    "    Returns:\n",
    "    dict: A dictionary containing analysis results.\n",
    "    \"\"\"\n",
    "    mean_coef = np.mean(loo_coefs)\n",
    "    changes = loo_coefs - mean_coef\n",
    "    # Determine worsening based on the sign of the mean coefficient\n",
    "    if mean_coef > 0:\n",
    "        # For positive correlations, worsening means becoming more negative\n",
    "        significant_worsening = changes < -threshold\n",
    "    else:\n",
    "        # For negative correlations, worsening means becoming more positive\n",
    "        significant_worsening = changes > threshold\n",
    "\n",
    "    result = {\n",
    "        \"mean_coef\": mean_coef,\n",
    "        \"changes\": changes,\n",
    "        \"significant_worsening\": significant_worsening,\n",
    "        \"num_significant_worsening\": np.sum(significant_worsening),\n",
    "        \"is_robust\": np.sum(significant_worsening) <= 1  # Robust if 1 or 0 significant changes\n",
    "    }\n",
    "\n",
    "    return result"
   ]
  },
  {
   "cell_type": "markdown",
   "id": "a769a7f9-0546-4346-94da-5c655c1290c3",
   "metadata": {},
   "source": [
    "#### Next, we conduct a detailed analysis of gene-gene interaction strengths using a Leave-One-Out (LOO) approach \"on top of\" Generalized Least Squares (GLS) regression. \n",
    "\n",
    "Our aim is to identify how the removal of a single data point (screen) affects the correlation between gene pairs, thereby assessing the robustness of these interactions.\n",
    "\n",
    "1. Initialization: We create an empty DataFrame results_df to store the analysis results. This DataFrame includes columns for the gene pair, mean GLS coefficient, minimum and maximum change in coefficients from LOOCV, and the number of instances showing significant worsening in correlation.\n",
    "2. Iterative Analysis: For each pair of genes in our dataset (gene_pairs), we perform the following steps:\n",
    "    - Retrieve the warped screen data for each gene in the pair using get_warped_screen_for_gene.\n",
    "    - Compute the GLS coefficients and standard errors for each gene pair using LOOCV with loo_gls_correlation. This process involves recalculating the GLS correlation for each gene pair while leaving out one data point at a time, allowing us to observe the impact of individual data points on the overall correlation.\n",
    "    - Analyze the LOOCV results using analyze_loocv_results, which calculates the mean GLS coefficient and identifies changes in correlation strength when each data point is omitted.\n",
    "3. Result Compilation: For each gene pair, we compile the analysis results into a new DataFrame new_result_df, which is then concatenated with our main results_df. This step aggregates all the results into a single DataFrame for easy access and further analysis."
   ]
  },
  {
   "cell_type": "code",
   "execution_count": 7,
   "id": "8e29e66b-3206-4a94-abad-7860bc5a05e9",
   "metadata": {},
   "outputs": [
    {
     "name": "stderr",
     "output_type": "stream",
     "text": [
      "100%|██████████████████████████████████████████████████████████████████████████████████████████████████████████| 5610/5610 [01:55<00:00, 48.76it/s]\n"
     ]
    }
   ],
   "source": [
    "# Assuming you have the functions defined for LOOCV and analysis\n",
    "results_df = pd.DataFrame(columns=['gene_pair', 'mean_coef', 'min_change', 'max_change', 'num_significant_worsening'])\n",
    "\n",
    "for gene1, gene2 in tqdm(gene_pairs):  # For all unique gene pairs: \n",
    "    warped_gene_x = get_warped_screen_for_gene(gene1, df_lfc_gls, warped_screens)\n",
    "    warped_gene_y = get_warped_screen_for_gene(gene2, df_lfc_gls, warped_screens)\n",
    "\n",
    "    loo_coefs, loo_se = loo_gls_correlation(warped_gene_x, warped_gene_y, warped_intercept)\n",
    "    result = analyze_loocv_results(loo_coefs)\n",
    "    \n",
    "    # Create a new DataFrame for the current result\n",
    "    new_result_df = pd.DataFrame([{\n",
    "        'gene_pair': (gene1, gene2),# Concatenate with the main DataFrame\n",
    "    results_df = pd.concat([results_df, new_result_df], ignore_index=True)\n",
    "        'mean_coef': result['mean_coef'],\n",
    "        'min_change': np.min(result['changes']),\n",
    "        'max_change': np.max(result['changes']),\n",
    "        'num_significant_worsening': result['num_significant_worsening']\n",
    "    }])\n",
    "    \n",
    "    # Concatenate with the main DataFrame\n",
    "    results_df = pd.concat([results_df, new_result_df], ignore_index=True)\n",
    "\n",
    "gp_str = ['_'.join([gp[0], gp[1]]) for gp in results_df.gene_pair]\n",
    "results_df['gene_pair_str'] = gp_str"
   ]
  },
  {
   "cell_type": "markdown",
   "id": "8b59fc44-ac71-4958-9872-d1f355b5f6dc",
   "metadata": {},
   "source": [
    "#### Next, we visualize the frequency of significant worsening instances in the gene-gene correlation strength, as identified by our Leave-One-Out Cross-Validation (LOOCV) analysis. \n",
    "\n",
    "In particular, this histogram helps us understand the distribution of how often the removal of a single data point leads to a significant change in the GLS correlation coefficient for each gene pair.\n",
    "\n",
    "#### Histogram Setup: \n",
    "We use the num_significant_worsening column from the results_df DataFrame, which contains the count of significant worsening instances for each gene pair.\n",
    "\n",
    "\n",
    "- Bin 0 means that, for those gene pairs, there are 0 screens / data points that, upon removal, significantly decrease the quality of the correlation. \n",
    "- Bin 1 means that, for those gene pairs, there is a single screen/datapoint that, upon removal, significantly decreases the quality of the correlation. \n"
   ]
  },
  {
   "cell_type": "code",
   "execution_count": 10,
   "id": "53cc5a45-3fbf-4492-b174-d1773dcce37d",
   "metadata": {},
   "outputs": [
    {
     "data": {
      "image/png": "[encoded data removed]",
      "text/plain": [
       "<Figure size 720x432 with 1 Axes>"
      ]
     },
     "metadata": {
      "needs_background": "light"
     },
     "output_type": "display_data"
    }
   ],
   "source": [
    "num_significant_worsening = results_df['num_significant_worsening']\n",
    "# Determine the maximum number for setting bin edges\n",
    "max_num = int(num_significant_worsening.max())\n",
    "# Create bin edges aligned with integers\n",
    "bins = [i - 0.5 for i in range(max_num + 2)]\n",
    "\n",
    "# Plotting the histogram\n",
    "plt.figure(figsize=(10, 6))\n",
    "plt.hist(num_significant_worsening, bins=bins, edgecolor='black')\n",
    "\n",
    "# Setting the x-axis to show integer values\n",
    "plt.xticks(range(max_num + 1))\n",
    "plt.xlabel('Number of Significant Worsening', fontsize = 18)\n",
    "plt.ylabel('Frequency', fontsize = 18)\n",
    "ttl = plt.title('Some data points (screens) \\nsignificantly change\\nGLS coefficient upon removal', fontsize = 22)\n",
    "plt.tight_layout()"
   ]
  },
  {
   "cell_type": "markdown",
   "id": "77e2296a-9cdf-4d2a-8b3d-7d66074bc412",
   "metadata": {},
   "source": [
    "#### Next, we visually explore the gene pairs with a specific number of screens/datapoints that significantly influence the GLS regression coefficient. \n",
    "\n",
    "This gives a visual/qualitative sense of the nature of these gene pairs, particularly in terms of how outliers affect the GLS correlation."
   ]
  },
  {
   "cell_type": "code",
   "execution_count": 11,
   "id": "9b53efbf-1152-4adb-abd1-5a9d9f70d961",
   "metadata": {},
   "outputs": [
    {
     "data": {
      "text/html": [
       "<div>\n",
       "<style scoped>\n",
       "    .dataframe tbody tr th:only-of-type {\n",
       "        vertical-align: middle;\n",
       "    }\n",
       "\n",
       "    .dataframe tbody tr th {\n",
       "        vertical-align: top;\n",
       "    }\n",
       "\n",
       "    .dataframe thead th {\n",
       "        text-align: right;\n",
       "    }\n",
       "</style>\n",
       "<table border=\"1\" class=\"dataframe\">\n",
       "  <thead>\n",
       "    <tr style=\"text-align: right;\">\n",
       "      <th></th>\n",
       "      <th>gene_pair</th>\n",
       "      <th>mean_coef</th>\n",
       "      <th>min_change</th>\n",
       "      <th>max_change</th>\n",
       "      <th>num_significant_worsening</th>\n",
       "      <th>gene_pair_str</th>\n",
       "    </tr>\n",
       "  </thead>\n",
       "  <tbody>\n",
       "    <tr>\n",
       "      <th>1774</th>\n",
       "      <td>(Rv0715, Rv2375)</td>\n",
       "      <td>0.691481</td>\n",
       "      <td>-0.186437</td>\n",
       "      <td>0.107610</td>\n",
       "      <td>1</td>\n",
       "      <td>Rv0715_Rv2375</td>\n",
       "    </tr>\n",
       "    <tr>\n",
       "      <th>2254</th>\n",
       "      <td>(Rv0950c, Rv1836c)</td>\n",
       "      <td>0.964774</td>\n",
       "      <td>-0.486362</td>\n",
       "      <td>0.034659</td>\n",
       "      <td>1</td>\n",
       "      <td>Rv0950c_Rv1836c</td>\n",
       "    </tr>\n",
       "    <tr>\n",
       "      <th>5250</th>\n",
       "      <td>(Rv3238c, Rv3513c)</td>\n",
       "      <td>0.480912</td>\n",
       "      <td>-0.208399</td>\n",
       "      <td>0.037597</td>\n",
       "      <td>1</td>\n",
       "      <td>Rv3238c_Rv3513c</td>\n",
       "    </tr>\n",
       "  </tbody>\n",
       "</table>\n",
       "</div>"
      ],
      "text/plain": [
       "               gene_pair  mean_coef  min_change  max_change  \\\n",
       "1774    (Rv0715, Rv2375)   0.691481   -0.186437    0.107610   \n",
       "2254  (Rv0950c, Rv1836c)   0.964774   -0.486362    0.034659   \n",
       "5250  (Rv3238c, Rv3513c)   0.480912   -0.208399    0.037597   \n",
       "\n",
       "     num_significant_worsening    gene_pair_str  \n",
       "1774                         1    Rv0715_Rv2375  \n",
       "2254                         1  Rv0950c_Rv1836c  \n",
       "5250                         1  Rv3238c_Rv3513c  "
      ]
     },
     "execution_count": 11,
     "metadata": {},
     "output_type": "execute_result"
    },
    {
     "data": {
      "image/png": "[encoded data removed]",
      "text/plain": [
       "<Figure size 432x288 with 1 Axes>"
      ]
     },
     "metadata": {
      "needs_background": "light"
     },
     "output_type": "display_data"
    },
    {
     "data": {
      "image/png": "[encoded data removed]",
      "text/plain": [
       "<Figure size 432x288 with 1 Axes>"
      ]
     },
     "metadata": {
      "needs_background": "light"
     },
     "output_type": "display_data"
    },
    {
     "data": {
      "image/png": "[encoded data removed]",
      "text/plain": [
       "<Figure size 432x288 with 1 Axes>"
      ]
     },
     "metadata": {
      "needs_background": "light"
     },
     "output_type": "display_data"
    }
   ],
   "source": [
    "num_sig_wors = 1 # used to (randomly) select gene pairs with this number of screens/datapoints that significantly worsen the GLS regression coefficient \n",
    "sample_pairs = results_df[results_df.num_significant_worsening == num_sig_wors].gene_pair.sample(3).tolist()\n",
    "\n",
    "for gp in sample_pairs:\n",
    "    # GLS \"warped\" log2-fold changes\n",
    "    warped_gene_x = get_warped_screen_for_gene(gp[0], df_lfc_gls, warped_screens)\n",
    "    warped_gene_y = get_warped_screen_for_gene(gp[1], df_lfc_gls, warped_screens)\n",
    "    plt.figure()\n",
    "    plt.scatter(warped_gene_x, warped_gene_y, s = 200, alpha = 0.55, edgecolors='k', linewidths=3)\n",
    "    \n",
    "results_df[results_df.gene_pair.isin(sample_pairs)]"
   ]
  },
  {
   "cell_type": "code",
   "execution_count": 12,
   "id": "b651897c-5366-4cd6-8b4b-88571c511221",
   "metadata": {},
   "outputs": [
    {
     "name": "stdout",
     "output_type": "stream",
     "text": [
      "count    5610.000000\n",
      "mean       -0.257335\n",
      "std         0.425605\n",
      "min       -12.080858\n",
      "25%        -0.303295\n",
      "50%        -0.143621\n",
      "75%        -0.055814\n",
      "max        -0.000542\n",
      "Name: min_change, dtype: float64\n"
     ]
    }
   ],
   "source": [
    "# Get a sense for the basic stats around the max/min effect on GLS coeff. from removing a single data point.  \n",
    "min_change = results_df['min_change']\n",
    "# Basic statistical summaries\n",
    "print(min_change.describe())\n"
   ]
  },
  {
   "cell_type": "markdown",
   "id": "dcc201a5-4376-4655-9527-e86a9b40ddb1",
   "metadata": {},
   "source": [
    "### Filtering Out Single-Outlier Driven Correlations\n",
    "In this step, we apply our defined criterion to isolate and remove gene pairs \n",
    "whose GLS correlation is significantly influenced by a single outlier. \n",
    "\n",
    "This is based on our threshold (~0.18), which we've established earlier.\n"
   ]
  },
  {
   "cell_type": "code",
   "execution_count": 13,
   "id": "4beaae56-b195-43f5-8d66-65520525f2a8",
   "metadata": {},
   "outputs": [
    {
     "name": "stdout",
     "output_type": "stream",
     "text": [
      "Original vs Filtered DataFrame shapes: (5610, 4) (3268, 4)\n"
     ]
    }
   ],
   "source": [
    "# Exclude gene pairs with exactly one significant worsening instance.\n",
    "results_df_filt = results_df[results_df.num_significant_worsening != 1]\n",
    "\n",
    "# Apply this filtering to the original interaction DataFrame.\n",
    "# We retain only those gene pairs whose interactions are robust against outliers.\n",
    "df_interact_filt = df_interact[df_interact.sorted_gene_pair.isin(results_df_filt.gene_pair)].copy()\n",
    "list_pairs = df_interact_filt.sorted_gene_pair.tolist()\n",
    "\n",
    "# Compare the shape of the original and filtered DataFrames to understand the impact.\n",
    "print(\"Original vs Filtered DataFrame shapes:\", df_interact.shape, df_interact_filt.shape)\n",
    "\n",
    "# The output shapes indicate how many gene pairs are excluded based on our robustness criterion.\n",
    "# This step is key in ensuring the reliability of our subsequent analyses and interpretations."
   ]
  },
  {
   "cell_type": "markdown",
   "id": "113497c6-e4a4-421b-b59f-b6681b87c6c8",
   "metadata": {},
   "source": [
    "Keep a copy of the full df_interact dataframe, adding an extra column to flag those identified as potentially being driven by outliers.\n",
    "\n",
    "This will be used as the main input to the notebook/code that displays correlation plots given a query gene (module_explorer.ipynb)"
   ]
  },
  {
   "cell_type": "code",
   "execution_count": 41,
   "id": "226760ff-5bda-48ea-97ec-7ef46f118e66",
   "metadata": {},
   "outputs": [
    {
     "name": "stdout",
     "output_type": "stream",
     "text": [
      "True\n"
     ]
    }
   ],
   "source": [
    "# check whether both dataframes are well - matched\n",
    "print( df_interact.sorted_gene_pair.equals( results_df.gene_pair ) )\n",
    "df_interact['outlier_driven_flag'] = results_df.num_significant_worsening == 1\n",
    "df_interact.head(3)\n",
    "\n",
    "path_out = '/home/ajinich/Documents/repos/mtb_coessential/data/'\n",
    "fn_out = 'df_interact_fdr.001_w_outlier_flag.xlsx'\n",
    "path_fn = os.path.join(path_out, fn_out)\n",
    "df_interact.to_excel(path_fn, index = False)"
   ]
  },
  {
   "cell_type": "markdown",
   "id": "f850aabd-7107-4f46-a4a5-9f22207c5ac5",
   "metadata": {},
   "source": [
    "# PART 2: Identifying Unique NN2 (nearest-neighbors of degree 2) Subgraphs\n",
    "\n",
    "In this section, our goal is to identify distinct clusters or \"modules\" within the gene-gene co-essentiality network of Mycobacterium tuberculosis. \n",
    "\n",
    "We focus on constructing and analyzing second-nearest neighbor (NN2) subgraphs. \n",
    "\n",
    "An NN2 subgraph for a given gene comprises not only the genes directly correlated with it (first-nearest neighbors) but also those genes that are correlated with its first-nearest neighbors, thus extending the reach to second-nearest neighbors.\n",
    "\n",
    "## What is an NN2 Subgraph?\n",
    "### NN2 Subgraph: \n",
    "- It's a network cluster starting from a 'seed' gene and includes genes directly correlated with this seed (its nearest neighbors) and genes correlated with these neighbors.\n",
    "- Purpose: By examining NN2 subgraphs, we aim to uncover more extensive and potentially meaningful gene interaction patterns that might not be evident from direct (nearest neighbor) interactions alone.\n",
    "\n",
    "## Main Steps in the Analysis:\n",
    "#### Subgraph Generation: \n",
    "For each gene in our dataset, we generate an NN2 subgraph using the correlations established from the GLS analysis.\n",
    "#### Subgraph Normalization: \n",
    "To handle the asymmetry (where gene A's nearest neighbor might not consider A as its nearest neighbor), we standardize the representation of each subgraph.\n",
    "#### Duplication Removal: \n",
    "We systematically identify and remove duplicate subgraphs. Duplication can occur due to the interconnected nature of gene relationships, where different seed genes might lead to similar or identical subgraphs.\n",
    "#### Unique Subgraphs: \n",
    "Post-processing, we obtain a set of unique NN2 subgraphs. Each subgraph in this set represents a distinct cluster of gene interactions.\n"
   ]
  },
  {
   "cell_type": "code",
   "execution_count": 106,
   "id": "f13e4b06-0bdb-4b7d-9533-582ebd9fa1c1",
   "metadata": {},
   "outputs": [],
   "source": [
    "def get_NN12(rvid_query, df_interact):\n",
    "    \"\"\"\n",
    "    Generate lists of first and second nearest neighbors (NN1 and NN2) for a given gene.\n",
    "\n",
    "    Parameters:\n",
    "    rvid_query (str): The RvID of the seed gene for which nearest neighbors are to be found.\n",
    "    df_interact (DataFrame): A DataFrame containing gene interaction pairs (columns 'lead_gene' and 'partner_gene').\n",
    "\n",
    "    Returns:\n",
    "    tuple: A tuple containing two lists:\n",
    "        - The first list contains the first nearest neighbors (NN1) of the query gene.\n",
    "        - The second list contains the second nearest neighbors (NN2) of the query gene.\n",
    "\n",
    "    The function works as follows:\n",
    "    1. NN1 Identification:\n",
    "       - Finds all genes that are directly correlated with the query gene (either as a lead_gene or partner_gene).\n",
    "       - These genes are considered the first nearest neighbors (NN1).\n",
    "\n",
    "    2. NN2 Identification:\n",
    "       - Extends the search to genes that are correlated with the genes in the NN1 list.\n",
    "       - These additional genes are considered the second nearest neighbors (NN2).\n",
    "\n",
    "    Both lists are deduplicated and sorted to facilitate further analysis.\n",
    "    \"\"\"\n",
    "    # first nearest neighbors: \n",
    "    df_NN1 = df_interact[(df_interact.lead_gene==rvid_query) | (df_interact.partner_gene==rvid_query)].copy()\n",
    "    list_rvid_NN1 = list(set(df_NN1.lead_gene.tolist() + df_NN1.partner_gene.tolist()))\n",
    "    list_rvid_NN1.sort()\n",
    "\n",
    "    # second nearest neighbors: \n",
    "    df_NN2 = df_interact[ (df_interact.lead_gene.isin(list_rvid_NN1)) | (df_interact.partner_gene.isin(list_rvid_NN1))].copy()\n",
    "    list_rvid_NN2 = list(set(df_NN2.lead_gene.tolist() + df_NN2.partner_gene.tolist()))\n",
    "    list_rvid_NN2.sort()\n",
    "    \n",
    "    return list_rvid_NN1, list_rvid_NN2"
   ]
  },
  {
   "cell_type": "markdown",
   "id": "04db1f1e-ad53-47e5-9412-69047a939680",
   "metadata": {},
   "source": [
    "## Identifying Unique NN2 Subgraphs for Each Gene\n",
    "\n",
    "### Step 1: Extract Unique Genes from the Interaction Data\n",
    "\n",
    "The interaction data contains pairs of genes. We first extract these genes\n",
    "from each pair and create a list of unique genes to use as seeds for subgraph generation.\n"
   ]
  },
  {
   "cell_type": "code",
   "execution_count": 109,
   "id": "480ced69-67a1-4927-b829-ca1aaa2175cc",
   "metadata": {},
   "outputs": [
    {
     "name": "stdout",
     "output_type": "stream",
     "text": [
      "Number of unique genes in the interaction set: 1120\n"
     ]
    }
   ],
   "source": [
    "list_gene_1 = [gp[0] for gp in list_pairs]  # Extracting first genes from each pair\n",
    "list_gene_2 = [gp[1] for gp in list_pairs]  # Extracting second genes from each pair\n",
    "list_unique_genes = list(set(list_gene_1 + list_gene_2))  # Combining and deduplicating\n",
    "# Display the count of unique genes\n",
    "print(f\"Number of unique genes in the interaction set: {len(list_unique_genes)}\")"
   ]
  },
  {
   "cell_type": "markdown",
   "id": "312b5508-e88d-45b6-9188-de9547287bda",
   "metadata": {},
   "source": [
    "### Step 2: Generate NN2 Subgraphs for Each Unique Gene\n",
    "\n",
    "We use each unique gene as a seed to generate its NN2 subgraph. \n",
    "\n",
    "This involves identifying not only the genes directly correlated with the seed (NN1) but also those correlated with its NN1 neighbors (NN2).\n"
   ]
  },
  {
   "cell_type": "code",
   "execution_count": 110,
   "id": "dbcaa096-079b-4c3e-9248-7e51d0e2ff53",
   "metadata": {},
   "outputs": [
    {
     "name": "stderr",
     "output_type": "stream",
     "text": [
      "100%|██████████████████████████████████████████████████████████████████████████████████████████████████████| 1120/1120 [00:02<00:00, 463.61it/s]\n"
     ]
    }
   ],
   "source": [
    "nn2_subgraphs = {}  # Dictionary to hold the NN2 subgraphs for each gene\n",
    "\n",
    "for gene in tqdm(list_unique_genes):\n",
    "    # Get the NN1 and NN2 lists for the current seed gene\n",
    "    list_rvid_NN1, list_rvid_NN2 = get_NN12(gene, df_interact)\n",
    "    \n",
    "    # Create the subgraph set and include the seed gene itself\n",
    "    subgraph = set(list_rvid_NN2)\n",
    "    subgraph.add(gene)  # Adding the seed gene to its own subgraph\n",
    "\n",
    "    # Store the subgraph in the dictionary\n",
    "    nn2_subgraphs[gene] = subgraph\n",
    "\n",
    "# At this point, nn2_subgraphs contains the NN2 subgraph for each unique gene in the dataset."
   ]
  },
  {
   "cell_type": "markdown",
   "id": "7fb45749-0314-4405-848c-01709dafbb83",
   "metadata": {},
   "source": [
    "### Next, we implement a process to filter out similar subgraphs from our collection of NN2 subgraphs. \n",
    "\n",
    "Our aim is to ensure that each subgraph in our final analysis is distinct and unique, thereby enhancing the reliability and interpretability of our findings.\n",
    "\n"
   ]
  },
  {
   "cell_type": "code",
   "execution_count": 111,
   "id": "793cf84a-a349-430c-8062-ff28e61c8892",
   "metadata": {},
   "outputs": [],
   "source": [
    "def jaccard_similarity(set1, set2):\n",
    "    \"\"\"\n",
    "    Calculate the Jaccard similarity between two sets.\n",
    "\n",
    "    The Jaccard similarity is a measure of how similar the two sets are, defined as\n",
    "    the size of the intersection divided by the size of the union of the sets.\n",
    "\n",
    "    Parameters:\n",
    "    set1 (set): The first set for comparison.\n",
    "    set2 (set): The second set for comparison.\n",
    "\n",
    "    Returns:\n",
    "    float: The Jaccard similarity coefficient between set1 and set2. This is a value\n",
    "           between 0 and 1, where 0 means no similarity and 1 means the sets are identical.\n",
    "    \"\"\"\n",
    "    intersection = len(set(set1).intersection(set2))\n",
    "    union = len(set(set1).union(set2))\n",
    "    return intersection / union"
   ]
  },
  {
   "cell_type": "markdown",
   "id": "234ba65a-a42c-49c0-a76e-8567cf9d1831",
   "metadata": {},
   "source": [
    "### Setting the Similarity Threshold: \n",
    "We define similarity_threshold as 0.25. This threshold determines how similar two subgraphs need to be to be considered duplicates. A higher threshold value would be more stringent.\n",
    "\n",
    "#### Iterative Filtering Process:\n",
    "We iterate through each subgraph in nn2_subgraphs. For each subgraph, we perform the following steps:\n",
    "\n",
    "- #### Initial Assumption: \n",
    "    - We initially assume that each subgraph is unique.\n",
    "- #### Comparison with Existing Subgraphs: \n",
    "    - We compare the current subgraph against those already identified as unique. We use the jaccard_similarity function for this comparison. If the similarity exceeds our predefined threshold, it indicates that the current subgraph is not distinct.\n",
    "- #### Determining Uniqueness: \n",
    "    - If a subgraph is similar to any existing subgraph (based on our threshold), we mark it as non-unique and do not add it to our list of unique subgraphs.\n",
    "\n",
    "#### Building the List of Unique Subgraphs: \n",
    "Only subgraphs that are determined to be unique are added to the filtered_subgraphs dictionary. This collection represents a set of distinct and non-redundant gene clusters.\n",
    "\n",
    "By the end of this process, filtered_subgraphs contains a refined set of subgraphs, each representing a unique gene interaction pattern within the Mycobacterium tuberculosis genome."
   ]
  },
  {
   "cell_type": "code",
   "execution_count": 118,
   "id": "f09312a5-b417-40d3-be40-7c10e74a771c",
   "metadata": {},
   "outputs": [
    {
     "name": "stderr",
     "output_type": "stream",
     "text": [
      "100%|█████████████████████████████████████████████████████████████████████████████████████████████████████| 1120/1120 [00:00<00:00, 6090.07it/s]"
     ]
    },
    {
     "name": "stdout",
     "output_type": "stream",
     "text": [
      "Total NN2 Subgraphs: 1120\n",
      "Unique NN2 Subgraphs after Filtering: 236\n"
     ]
    },
    {
     "name": "stderr",
     "output_type": "stream",
     "text": [
      "\n"
     ]
    }
   ],
   "source": [
    "# Threshold for filtering similar subgraphs\n",
    "similarity_threshold = 0.25  # Adjust as needed\n",
    "\n",
    "filtered_subgraphs = {}\n",
    "for gene, subgraph in tqdm(nn2_subgraphs.items()):\n",
    "    is_unique = True  # Assume the subgraph is unique initially\n",
    "    \n",
    "    # Compare with already filtered subgraphs\n",
    "    for existing_subgraph in filtered_subgraphs.values():\n",
    "        if jaccard_similarity(subgraph, existing_subgraph) >= similarity_threshold:\n",
    "            is_unique = False\n",
    "            break  # If similar to an existing subgraph, it's not unique\n",
    "\n",
    "    # If the subgraph is unique, add it to the filtered subgraphs\n",
    "    if is_unique:\n",
    "        filtered_subgraphs[gene] = subgraph\n",
    "        \n",
    "print(f\"Total NN2 Subgraphs: {len(nn2_subgraphs)}\")\n",
    "print(f\"Unique NN2 Subgraphs after Filtering: {len(filtered_subgraphs)}\")"
   ]
  },
  {
   "cell_type": "markdown",
   "id": "c26a6ab0-3060-4d35-bebf-8e0e6a977143",
   "metadata": {},
   "source": [
    "#### We next visualize the distribution of sizes for the filtered NN2 subgraphs. \n",
    "\n",
    "This histogram will help us understand the range and commonality of subgraph sizes after the filtering process.\n",
    "\n"
   ]
  },
  {
   "cell_type": "code",
   "execution_count": 120,
   "id": "cb29f37c-8030-4b58-97e7-771f13c26cc8",
   "metadata": {},
   "outputs": [
    {
     "data": {
      "image/png": "[encoded data removed]",
      "text/plain": [
       "<Figure size 720x432 with 1 Axes>"
      ]
     },
     "metadata": {
      "needs_background": "light"
     },
     "output_type": "display_data"
    }
   ],
   "source": [
    "len_NN2 = np.array([len(val) for val in filtered_subgraphs.values()])\n",
    "# Determine the range for your bins\n",
    "max_size = len_NN2.max()\n",
    "bins = np.arange(0, max_size + 2) - 0.5  # Bin edges aligned with integers\n",
    "\n",
    "# Plotting the histogram\n",
    "plt.figure(figsize=(10, 6))\n",
    "hst = plt.hist(len_NN2, bins=bins, edgecolor='black')\n",
    "plt.xlabel('NN2 subgraph size', fontsize = 22)\n",
    "plt.ylabel('Frequency', fontsize = 22)\n",
    "ttl = plt.title('Histogram of filtered NN2 subgraph sizes', fontsize = 26)"
   ]
  },
  {
   "cell_type": "markdown",
   "id": "2d5c6fc8-4a27-4dab-abbf-247405ba5552",
   "metadata": {},
   "source": [
    "### Find all NN2 subgraphs that contain a specified gene of interest\n"
   ]
  },
  {
   "cell_type": "code",
   "execution_count": 124,
   "id": "10a291f1-34b9-446b-8d11-79740f2f9e85",
   "metadata": {},
   "outputs": [],
   "source": [
    "def find_subgraphs_containing_gene(gene, filtered_subgraphs):\n",
    "    \"\"\"\n",
    "    Find all NN2 subgraphs that contain the specified gene.\n",
    "\n",
    "    Parameters:\n",
    "    gene (str): The gene (RvID) to search for.\n",
    "    nn2_subgraphs (dict): A dictionary of NN2 subgraphs.\n",
    "\n",
    "    Returns:\n",
    "    dict: A dictionary of subgraphs that contain the specified gene.\n",
    "    \"\"\"\n",
    "    subgraphs_containing_gene = {}\n",
    "    for key, subgraph in filtered_subgraphs.items():\n",
    "        if gene in subgraph:\n",
    "            subgraphs_containing_gene[key] = subgraph\n",
    "    return subgraphs_containing_gene"
   ]
  },
  {
   "cell_type": "markdown",
   "id": "112e140b-f94c-4a98-8129-72c2e8b8be05",
   "metadata": {},
   "source": [
    "## Validating the modules highlighted in the manuscript: \n",
    "\n",
    "In this  section of our analysis, we directly validate the modules highlighted in our manuscript by investigating specific seed genes and their corresponding NN2 subgraphs.\n",
    "\n",
    "This is a crucial step in affirming the robustness and accuracy of our module identification process, providing a concrete link between our computational approach and the biological insights presented in the manuscript.\n",
    "\n"
   ]
  },
  {
   "cell_type": "code",
   "execution_count": 146,
   "id": "ab12a37c-055c-43dd-a527-0dbf9b7b4418",
   "metadata": {},
   "outputs": [
    {
     "name": "stderr",
     "output_type": "stream",
     "text": [
      "/home/ajinich/miniconda3/lib/python3.8/site-packages/openpyxl/styles/stylesheet.py:221: UserWarning: Workbook contains no default style, apply openpyxl's default\n",
      "  warn(\"Workbook contains no default style, apply openpyxl's default\")\n"
     ]
    }
   ],
   "source": [
    "fn_annot = '../data/annotations/uniprotkb_mtb_2023_12_20.xlsx'\n",
    "df_annot = pd.read_excel(fn_annot)\n",
    "gene_name_mapping = df_annot[['Gene Names (ordered locus)', 'Gene Names (primary)' ]]\n",
    "\n",
    "gene_name_mapping.set_index('Gene Names (ordered locus)', inplace=True)\n",
    "gene_name_mapping.reset_index(inplace=True)"
   ]
  },
  {
   "cell_type": "code",
   "execution_count": 145,
   "id": "2cfd3658-e013-4e1b-be61-67c08c5569a8",
   "metadata": {},
   "outputs": [
    {
     "name": "stdout",
     "output_type": "stream",
     "text": [
      "Module: PDIM\n",
      "  - Contains Gene: fadD26 (Rv2930)\n",
      "  - Seed Gene for NN2 Subgraph: fadD28 (Rv2941)\n",
      "  - NN2 Subgraph Size: 11\n",
      "  - Full Subgraph (Primary Names): ['bpoC', 'tesA', 'fadD26', 'ppsA', 'ppsB', 'ppsC', 'ppsD', 'ppsE', 'papA5', 'mas', 'fadD28']\n",
      "  - Full Subgraph (RvIDs): ['Rv0554', 'Rv2928', 'Rv2930', 'Rv2931', 'Rv2932', 'Rv2933', 'Rv2934', 'Rv2935', 'Rv2939', 'Rv2940c', 'Rv2941']\n",
      "\n",
      "Module: Mycobactin\n",
      "  - Contains Gene: mbtG (Rv2378c)\n",
      "  - Seed Gene for NN2 Subgraph: mbtF (Rv2379c)\n",
      "  - NN2 Subgraph Size: 8\n",
      "  - Full Subgraph (Primary Names): ['mbtG', 'mbtF', 'mbtE', 'mbtD', 'mbtC', 'mbtB', 'mbtA', 'mbtI']\n",
      "  - Full Subgraph (RvIDs): ['Rv2378c', 'Rv2379c', 'Rv2380c', 'Rv2381c', 'Rv2382c', 'Rv2383c', 'Rv2384', 'Rv2386c']\n",
      "\n",
      "Module: Rv0096_Rv0101\n",
      "  - Contains Gene: nrp (Rv0101)\n",
      "  - Seed Gene for NN2 Subgraph: sigC (Rv2069)\n",
      "  - NN2 Subgraph Size: 7\n",
      "  - Full Subgraph (Primary Names): ['PPE1', 'Rv0097', 'fcoT', 'fadD10', 'nrp', 'Rv0199', 'sigC']\n",
      "  - Full Subgraph (RvIDs): ['Rv0096', 'Rv0097', 'Rv0098', 'Rv0099', 'Rv0101', 'Rv0199', 'Rv2069']\n",
      "\n",
      "Module: Biotin Group\n",
      "  - Contains Gene: bioF1 (Rv1569)\n",
      "  - Seed Gene for NN2 Subgraph: Rv1590 (Rv1590)\n",
      "  - NN2 Subgraph Size: 7\n",
      "  - Full Subgraph (Primary Names): ['bioA', 'bioF1', 'bioD', 'bioB', 'Rv1590', 'pdxS', 'cpsA']\n",
      "  - Full Subgraph (RvIDs): ['Rv1568', 'Rv1569', 'Rv1570', 'Rv1589', 'Rv1590', 'Rv2606c', 'Rv3484']\n",
      "\n",
      "Module: Rv2691 Group\n",
      "  - Contains Gene: ceoB (Rv2691)\n",
      "  - Seed Gene for NN2 Subgraph: ceoB (Rv2691)\n",
      "  - NN2 Subgraph Size: 4\n",
      "  - Full Subgraph (Primary Names): ['ceoB', 'trkA', 'Rv2694c', 'Rv3200c']\n",
      "  - Full Subgraph (RvIDs): ['Rv2691', 'Rv2692', 'Rv2694c', 'Rv3200c']\n",
      "\n",
      "Module: Cholesterol-related\n",
      "  - Contains Gene: kshA (Rv3526)\n",
      "  - Seed Gene for NN2 Subgraph: yrbE4A (Rv3501c)\n",
      "  - NN2 Subgraph Size: 18\n",
      "  - Full Subgraph (Primary Names): ['mgtE', 'Rv0381c', 'mftF', 'adhB', 'Rv1273c', 'pks12', 'Rv3492c', 'mce4F', 'lprN', 'mce4D', 'mce4C', 'mce4B', 'mce4A', 'yrbE4B', 'yrbE4A', 'kshA', 'hsaC', 'hmp']\n",
      "  - Full Subgraph (RvIDs): ['Rv0362', 'Rv0381c', 'Rv0696', 'Rv0761c', 'Rv1273c', 'Rv2048c', 'Rv3492c', 'Rv3494c', 'Rv3495c', 'Rv3496c', 'Rv3497c', 'Rv3498c', 'Rv3499c', 'Rv3500c', 'Rv3501c', 'Rv3526', 'Rv3568c', 'Rv3571']\n",
      "\n",
      "  - Seed Gene for NN2 Subgraph: Rv0669c (Rv0669c)\n",
      "  - NN2 Subgraph Size: 12\n",
      "  - Full Subgraph (Primary Names): ['Rv0320', 'Rv0338c', 'mgtE', 'Rv0373c', 'Rv0390', 'Rv0669c', 'Rv1371', 'Rv1428c', 'ggtB', 'mce4F', 'kshA', 'hmp']\n",
      "  - Full Subgraph (RvIDs): ['Rv0320', 'Rv0338c', 'Rv0362', 'Rv0373c', 'Rv0390', 'Rv0669c', 'Rv1371', 'Rv1428c', 'Rv2394', 'Rv3494c', 'Rv3526', 'Rv3571']\n",
      "\n",
      "Module: Vitamin B12 (Cobalamin)\n",
      "  - Contains Gene: PPE2 (Rv0256c)\n",
      "  - Seed Gene for NN2 Subgraph: bacA (Rv1819c)\n",
      "  - NN2 Subgraph Size: 7\n",
      "  - Full Subgraph (Primary Names): ['PPE2', 'Rv1314c', 'mutA', 'mutB', 'bacA', 'citE', 'miaB']\n",
      "  - Full Subgraph (RvIDs): ['Rv0256c', 'Rv1314c', 'Rv1492', 'Rv1493', 'Rv1819c', 'Rv2498c', 'Rv2733c']\n",
      "\n"
     ]
    }
   ],
   "source": [
    "# List of seed genes for different modules showcased in the manuscript\n",
    "seed_genes = {\n",
    "    \"PDIM\": \"Rv2930\",\n",
    "    \"Mycobactin\": \"Rv2378c\",\n",
    "    \"Rv0096_Rv0101\": \"Rv0101\",\n",
    "    \"Biotin Group\": \"Rv1569\",\n",
    "    \"Rv2691 Group\": \"Rv2691\",\n",
    "    \"Cholesterol-related\": \"Rv3526\",\n",
    "    \"Vitamin B12 (Cobalamin)\": \"Rv0256c\"\n",
    "}\n",
    "\n",
    "def get_primary_gene_name(rv_id, mapping_df):\n",
    "    # Ensure the column is a string type and filter the DataFrame\n",
    "    mapping_df['Gene Names (ordered locus)'] = mapping_df['Gene Names (ordered locus)'].astype(str)\n",
    "    matching_rows = mapping_df[mapping_df['Gene Names (ordered locus)'].str.contains(rv_id, na=False)]\n",
    "\n",
    "    if not matching_rows.empty and not pd.isna(matching_rows['Gene Names (primary)'].iloc[0]):\n",
    "        # Get the primary gene name from the first matching row\n",
    "        return matching_rows['Gene Names (primary)'].iloc[0]\n",
    "    else:\n",
    "        # Return the RvID itself if no match is found or if the primary gene name is NaN\n",
    "        return rv_id\n",
    "\n",
    "\n",
    "# Iterating through each module's seed gene\n",
    "for module_name, seed_gene in seed_genes.items():\n",
    "    subgraphs_with_gene = find_subgraphs_containing_gene(seed_gene, filtered_subgraphs)\n",
    "\n",
    "    # Display the results for each module\n",
    "    print(f\"Module: {module_name}\")\n",
    "    print(f\"  - Contains Gene: {get_primary_gene_name(seed_gene, gene_name_mapping)} ({seed_gene})\")\n",
    "    for key, subgraph in subgraphs_with_gene.items():\n",
    "        subgraph_size = len(subgraph)\n",
    "        print(f\"  - Seed Gene for NN2 Subgraph: {get_primary_gene_name(key, gene_name_mapping)} ({key})\")\n",
    "        print(f\"  - NN2 Subgraph Size: {subgraph_size}\")\n",
    "        primary_gene_names = [get_primary_gene_name(gene, gene_name_mapping) for gene in sorted(subgraph)]\n",
    "        rv_ids = sorted(subgraph)\n",
    "        print(f\"  - Full Subgraph (Primary Names): {primary_gene_names}\")\n",
    "        print(f\"  - Full Subgraph (RvIDs): {rv_ids}\\n\")"
   ]
  },
  {
   "cell_type": "code",
   "execution_count": 147,
   "id": "710f6880-d8fe-4af3-9df5-1afabed0602d",
   "metadata": {},
   "outputs": [
    {
     "data": {
      "text/html": [
       "<div>\n",
       "<style scoped>\n",
       "    .dataframe tbody tr th:only-of-type {\n",
       "        vertical-align: middle;\n",
       "    }\n",
       "\n",
       "    .dataframe tbody tr th {\n",
       "        vertical-align: top;\n",
       "    }\n",
       "\n",
       "    .dataframe thead th {\n",
       "        text-align: right;\n",
       "    }\n",
       "</style>\n",
       "<table border=\"1\" class=\"dataframe\">\n",
       "  <thead>\n",
       "    <tr style=\"text-align: right;\">\n",
       "      <th></th>\n",
       "      <th>Entry</th>\n",
       "      <th>Reviewed</th>\n",
       "      <th>Entry Name</th>\n",
       "      <th>Protein names</th>\n",
       "      <th>Gene Names</th>\n",
       "      <th>Organism</th>\n",
       "      <th>Length</th>\n",
       "      <th>PubMed ID</th>\n",
       "      <th>Annotation</th>\n",
       "      <th>Domain [CC]</th>\n",
       "      <th>Organism (ID)</th>\n",
       "      <th>Proteomes</th>\n",
       "      <th>Gene Names (ordered locus)</th>\n",
       "      <th>Gene Names (primary)</th>\n",
       "    </tr>\n",
       "  </thead>\n",
       "  <tbody>\n",
       "    <tr>\n",
       "      <th>0</th>\n",
       "      <td>A0A089QRB9</td>\n",
       "      <td>reviewed</td>\n",
       "      <td>MSL3_MYCTU</td>\n",
       "      <td>Mycolipanoate synthase (EC 2.3.1.252) (Mycocer...</td>\n",
       "      <td>msl3 pks3 pks4 Rv1180/Rv1181</td>\n",
       "      <td>Mycobacterium tuberculosis (strain ATCC 25618 ...</td>\n",
       "      <td>2085</td>\n",
       "      <td>9634230; 34915127; 12207710; 21969609</td>\n",
       "      <td>5.0</td>\n",
       "      <td>NaN</td>\n",
       "      <td>83332</td>\n",
       "      <td>UP000001584: Chromosome</td>\n",
       "      <td>Rv1180/Rv1181</td>\n",
       "      <td>msl3</td>\n",
       "    </tr>\n",
       "    <tr>\n",
       "      <th>1</th>\n",
       "      <td>I6WXK4</td>\n",
       "      <td>reviewed</td>\n",
       "      <td>PTPB_MYCTU</td>\n",
       "      <td>Triple specificity protein phosphatase PtpB (E...</td>\n",
       "      <td>ptpB mptpB Rv0153c</td>\n",
       "      <td>Mycobacterium tuberculosis (strain ATCC 25618 ...</td>\n",
       "      <td>276</td>\n",
       "      <td>9634230; 10986245; 14617138; 16256440; 1758418...</td>\n",
       "      <td>5.0</td>\n",
       "      <td>DOMAIN: The UIM-like region mediates binding t...</td>\n",
       "      <td>83332</td>\n",
       "      <td>UP000001584: Chromosome</td>\n",
       "      <td>Rv0153c</td>\n",
       "      <td>ptpB</td>\n",
       "    </tr>\n",
       "    <tr>\n",
       "      <th>2</th>\n",
       "      <td>I6WZG6</td>\n",
       "      <td>reviewed</td>\n",
       "      <td>ENCAP_MYCTU</td>\n",
       "      <td>Type 1 encapsulin shell protein (Culture filtr...</td>\n",
       "      <td>enc cfp29 Rv0798c</td>\n",
       "      <td>Mycobacterium tuberculosis (strain ATCC 25618 ...</td>\n",
       "      <td>265</td>\n",
       "      <td>9596740; 9634230; 20662102; 21969609; 24855650...</td>\n",
       "      <td>5.0</td>\n",
       "      <td>NaN</td>\n",
       "      <td>83332</td>\n",
       "      <td>UP000001584: Chromosome</td>\n",
       "      <td>Rv0798c</td>\n",
       "      <td>enc</td>\n",
       "    </tr>\n",
       "    <tr>\n",
       "      <th>3</th>\n",
       "      <td>I6X235</td>\n",
       "      <td>reviewed</td>\n",
       "      <td>ADPP_MYCTU</td>\n",
       "      <td>ADP-ribose pyrophosphatase (EC 3.6.1.13) (8-ox...</td>\n",
       "      <td>Rv1700</td>\n",
       "      <td>Mycobacterium tuberculosis (strain ATCC 25618 ...</td>\n",
       "      <td>207</td>\n",
       "      <td>9634230; 21969609; 23463507; 12906832; 27683242</td>\n",
       "      <td>5.0</td>\n",
       "      <td>NaN</td>\n",
       "      <td>83332</td>\n",
       "      <td>UP000001584: Chromosome</td>\n",
       "      <td>Rv1700</td>\n",
       "      <td>NaN</td>\n",
       "    </tr>\n",
       "    <tr>\n",
       "      <th>4</th>\n",
       "      <td>I6X8D2</td>\n",
       "      <td>reviewed</td>\n",
       "      <td>PKS13_MYCTU</td>\n",
       "      <td>Polyketide synthase Pks13 (EC 2.3.1.-)</td>\n",
       "      <td>pks13 Rv3800c</td>\n",
       "      <td>Mycobacterium tuberculosis (strain ATCC 25618 ...</td>\n",
       "      <td>1733</td>\n",
       "      <td>9634230; 16709676; 19436070; 19477415; 2196960...</td>\n",
       "      <td>5.0</td>\n",
       "      <td>DOMAIN: Made of a minimal module holding ketos...</td>\n",
       "      <td>83332</td>\n",
       "      <td>UP000001584: Chromosome</td>\n",
       "      <td>Rv3800c</td>\n",
       "      <td>pks13</td>\n",
       "    </tr>\n",
       "  </tbody>\n",
       "</table>\n",
       "</div>"
      ],
      "text/plain": [
       "        Entry  Reviewed   Entry Name  \\\n",
       "0  A0A089QRB9  reviewed   MSL3_MYCTU   \n",
       "1      I6WXK4  reviewed   PTPB_MYCTU   \n",
       "2      I6WZG6  reviewed  ENCAP_MYCTU   \n",
       "3      I6X235  reviewed   ADPP_MYCTU   \n",
       "4      I6X8D2  reviewed  PKS13_MYCTU   \n",
       "\n",
       "                                       Protein names  \\\n",
       "0  Mycolipanoate synthase (EC 2.3.1.252) (Mycocer...   \n",
       "1  Triple specificity protein phosphatase PtpB (E...   \n",
       "2  Type 1 encapsulin shell protein (Culture filtr...   \n",
       "3  ADP-ribose pyrophosphatase (EC 3.6.1.13) (8-ox...   \n",
       "4             Polyketide synthase Pks13 (EC 2.3.1.-)   \n",
       "\n",
       "                     Gene Names  \\\n",
       "0  msl3 pks3 pks4 Rv1180/Rv1181   \n",
       "1            ptpB mptpB Rv0153c   \n",
       "2             enc cfp29 Rv0798c   \n",
       "3                        Rv1700   \n",
       "4                 pks13 Rv3800c   \n",
       "\n",
       "                                            Organism  Length  \\\n",
       "0  Mycobacterium tuberculosis (strain ATCC 25618 ...    2085   \n",
       "1  Mycobacterium tuberculosis (strain ATCC 25618 ...     276   \n",
       "2  Mycobacterium tuberculosis (strain ATCC 25618 ...     265   \n",
       "3  Mycobacterium tuberculosis (strain ATCC 25618 ...     207   \n",
       "4  Mycobacterium tuberculosis (strain ATCC 25618 ...    1733   \n",
       "\n",
       "                                           PubMed ID  Annotation  \\\n",
       "0              9634230; 34915127; 12207710; 21969609         5.0   \n",
       "1  9634230; 10986245; 14617138; 16256440; 1758418...         5.0   \n",
       "2  9596740; 9634230; 20662102; 21969609; 24855650...         5.0   \n",
       "3    9634230; 21969609; 23463507; 12906832; 27683242         5.0   \n",
       "4  9634230; 16709676; 19436070; 19477415; 2196960...         5.0   \n",
       "\n",
       "                                         Domain [CC]  Organism (ID)  \\\n",
       "0                                                NaN          83332   \n",
       "1  DOMAIN: The UIM-like region mediates binding t...          83332   \n",
       "2                                                NaN          83332   \n",
       "3                                                NaN          83332   \n",
       "4  DOMAIN: Made of a minimal module holding ketos...          83332   \n",
       "\n",
       "                 Proteomes Gene Names (ordered locus) Gene Names (primary)  \n",
       "0  UP000001584: Chromosome              Rv1180/Rv1181                 msl3  \n",
       "1  UP000001584: Chromosome                    Rv0153c                 ptpB  \n",
       "2  UP000001584: Chromosome                    Rv0798c                  enc  \n",
       "3  UP000001584: Chromosome                     Rv1700                  NaN  \n",
       "4  UP000001584: Chromosome                    Rv3800c                pks13  "
      ]
     },
     "execution_count": 147,
     "metadata": {},
     "output_type": "execute_result"
    }
   ],
   "source": [
    "df_annot.head()"
   ]
  },
  {
   "cell_type": "code",
   "execution_count": null,
   "id": "2876f9eb-65b3-4455-a458-b8948c94e452",
   "metadata": {},
   "outputs": [],
   "source": []
  },
  {
   "cell_type": "markdown",
   "id": "d452190f-20cf-4287-95f8-993b4d938e88",
   "metadata": {},
   "source": [
    "# EXTRA/PENDING\n",
    "## Analyze what's up with the large subgraphs? "
   ]
  },
  {
   "cell_type": "code",
   "execution_count": 121,
   "id": "ee14a984-93e8-43b6-8d7b-fdd528583ba9",
   "metadata": {},
   "outputs": [
    {
     "data": {
      "text/plain": [
       "36"
      ]
     },
     "execution_count": 121,
     "metadata": {},
     "output_type": "execute_result"
    }
   ],
   "source": [
    "# Define a size threshold for large subgraphs, this could be based on your histogram analysis\n",
    "size_threshold = 20  # for example, subgraphs with size > 10\n",
    "\n",
    "# Get a list of large subgraphs\n",
    "large_subgraphs = {gene: subgraph for gene, subgraph in filtered_subgraphs.items() if len(subgraph) > size_threshold}\n",
    "\n",
    "len(large_subgraphs)"
   ]
  },
  {
   "cell_type": "code",
   "execution_count": 122,
   "id": "549a39e7-d682-40ae-a3c5-1c1e9481800f",
   "metadata": {},
   "outputs": [],
   "source": [
    "# Function to compute pairwise Jaccard similarities between subgraphs\n",
    "def pairwise_jaccard_similarities(subgraphs_dict):\n",
    "    keys = list(subgraphs_dict.keys())\n",
    "    similarities = {}\n",
    "    for i in range(len(keys)):\n",
    "        for j in range(i+1, len(keys)):\n",
    "            gene_i, gene_j = keys[i], keys[j]\n",
    "            sim = jaccard_similarity(subgraphs_dict[gene_i], subgraphs_dict[gene_j])\n",
    "            if sim > 0:  # Only consider non-zero similarities\n",
    "                similarities[(gene_i, gene_j)] = sim\n",
    "    return similarities"
   ]
  },
  {
   "cell_type": "code",
   "execution_count": 123,
   "id": "64eeca45-f262-4c5f-8961-038e8d44aca2",
   "metadata": {},
   "outputs": [
    {
     "name": "stdout",
     "output_type": "stream",
     "text": [
      "Genes: ('Rv2150c', 'Rv3320c'), Jaccard Similarity: 0.24489795918367346\n",
      "Genes: ('Rv1611', 'Rv2611c'), Jaccard Similarity: 0.24444444444444444\n",
      "Genes: ('Rv3320c', 'Rv2611c'), Jaccard Similarity: 0.24285714285714285\n",
      "Genes: ('Rv3219', 'Rv0896'), Jaccard Similarity: 0.2422680412371134\n",
      "Genes: ('Rv3219', 'Rv0291'), Jaccard Similarity: 0.2391304347826087\n",
      "Genes: ('Rv3320c', 'Rv2050'), Jaccard Similarity: 0.23880597014925373\n",
      "Genes: ('Rv3871', 'Rv3002c'), Jaccard Similarity: 0.23636363636363636\n",
      "Genes: ('Rv1594', 'Rv0291'), Jaccard Similarity: 0.23605150214592274\n",
      "Genes: ('Rv2764c', 'Rv2050'), Jaccard Similarity: 0.23333333333333334\n",
      "Genes: ('Rv2393', 'Rv2235'), Jaccard Similarity: 0.22988505747126436\n"
     ]
    }
   ],
   "source": [
    "# Compute similarities between large subgraphs\n",
    "large_subgraph_similarities = pairwise_jaccard_similarities(large_subgraphs)\n",
    "\n",
    "# Sort by similarity score to see the most similar large subgraphs\n",
    "sorted_similarities = sorted(large_subgraph_similarities.items(), key=lambda item: item[1], reverse=True)\n",
    "\n",
    "# Print some of the most similar large subgraphs\n",
    "for pair, sim in sorted_similarities[:10]:  # Top 10 most similar pairs\n",
    "    print(f\"Genes: {pair}, Jaccard Similarity: {sim}\")\n"
   ]
  },
  {
   "cell_type": "markdown",
   "id": "5d4157b1-1f9f-4f68-a1e4-0ff02144af59",
   "metadata": {},
   "source": [
    "# How many are of size 2? \n",
    "# How many are manageable / intermediate size? "
   ]
  },
  {
   "cell_type": "code",
   "execution_count": null,
   "id": "a6c05888-ab3f-46cc-8ca8-91d131f87f1d",
   "metadata": {},
   "outputs": [],
   "source": []
  }
 ],
 "metadata": {
  "kernelspec": {
   "display_name": "Python 3 (ipykernel)",
   "language": "python",
   "name": "python3"
  },
  "language_info": {
   "codemirror_mode": {
    "name": "ipython",
    "version": 3
   },
   "file_extension": ".py",
   "mimetype": "text/x-python",
   "name": "python",
   "nbconvert_exporter": "python",
   "pygments_lexer": "ipython3",
   "version": "3.8.12"
  }
 },
 "nbformat": 4,
 "nbformat_minor": 5
}
